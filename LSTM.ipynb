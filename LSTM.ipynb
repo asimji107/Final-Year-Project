{
 "cells": [
  {
   "cell_type": "code",
   "execution_count": null,
   "id": "3472841b-d087-4c25-8bc8-9191477dc78d",
   "metadata": {},
   "outputs": [],
   "source": [
    "!pip install tensorflow\n"
   ]
  },
  {
   "cell_type": "code",
   "execution_count": 1,
   "id": "76feae44-6eeb-448b-9778-643233fc64a5",
   "metadata": {},
   "outputs": [
    {
     "ename": "ModuleNotFoundError",
     "evalue": "No module named 'tensorflow'",
     "output_type": "error",
     "traceback": [
      "\u001b[1;31m---------------------------------------------------------------------------\u001b[0m",
      "\u001b[1;31mModuleNotFoundError\u001b[0m                       Traceback (most recent call last)",
      "Cell \u001b[1;32mIn[1], line 6\u001b[0m\n\u001b[0;32m      4\u001b[0m \u001b[38;5;28;01mimport\u001b[39;00m \u001b[38;5;21;01mmatplotlib\u001b[39;00m\u001b[38;5;21;01m.\u001b[39;00m\u001b[38;5;21;01mdates\u001b[39;00m \u001b[38;5;28;01mas\u001b[39;00m \u001b[38;5;21;01mmdates\u001b[39;00m\n\u001b[0;32m      5\u001b[0m \u001b[38;5;28;01mfrom\u001b[39;00m \u001b[38;5;21;01msklearn\u001b[39;00m\u001b[38;5;21;01m.\u001b[39;00m\u001b[38;5;21;01mpreprocessing\u001b[39;00m \u001b[38;5;28;01mimport\u001b[39;00m MinMaxScaler\n\u001b[1;32m----> 6\u001b[0m \u001b[38;5;28;01mfrom\u001b[39;00m \u001b[38;5;21;01mtensorflow\u001b[39;00m\u001b[38;5;21;01m.\u001b[39;00m\u001b[38;5;21;01mkeras\u001b[39;00m\u001b[38;5;21;01m.\u001b[39;00m\u001b[38;5;21;01mmodels\u001b[39;00m \u001b[38;5;28;01mimport\u001b[39;00m Sequential\n\u001b[0;32m      7\u001b[0m \u001b[38;5;28;01mfrom\u001b[39;00m \u001b[38;5;21;01mtensorflow\u001b[39;00m\u001b[38;5;21;01m.\u001b[39;00m\u001b[38;5;21;01mkeras\u001b[39;00m\u001b[38;5;21;01m.\u001b[39;00m\u001b[38;5;21;01mlayers\u001b[39;00m \u001b[38;5;28;01mimport\u001b[39;00m Dense, LSTM\n\u001b[0;32m      8\u001b[0m \u001b[38;5;28;01mfrom\u001b[39;00m \u001b[38;5;21;01msklearn\u001b[39;00m\u001b[38;5;21;01m.\u001b[39;00m\u001b[38;5;21;01mmetrics\u001b[39;00m \u001b[38;5;28;01mimport\u001b[39;00m mean_squared_error, mean_absolute_error\n",
      "\u001b[1;31mModuleNotFoundError\u001b[0m: No module named 'tensorflow'"
     ]
    }
   ],
   "source": [
    "import pandas as pd\n",
    "import numpy as np\n",
    "import matplotlib.pyplot as plt\n",
    "import matplotlib.dates as mdates\n",
    "from sklearn.preprocessing import MinMaxScaler\n",
    "from tensorflow.keras.models import Sequential\n",
    "from tensorflow.keras.layers import Dense, LSTM\n",
    "from sklearn.metrics import mean_squared_error, mean_absolute_error\n",
    "\n",
    "\n",
    "# Load the dataset\n",
    "file_path = 'dataset.csv'\n",
    "data = pd.read_csv(file_path)\n",
    "\n",
    "# Convert the 'Date' column to datetime\n",
    "data['Date'] = pd.to_datetime(data['Date'])\n",
    "\n",
    "# Set 'Date' as the index\n",
    "data.set_index('Date', inplace=True)\n",
    "\n",
    "# Display the first few rows of the dataset and the data types of each column\n",
    "print(data.head())\n",
    "print(data.dtypes)\n"
   ]
  },
  {
   "cell_type": "code",
   "execution_count": 3,
   "id": "5da0c0e3-c3fb-4dee-9f3e-177f47719e60",
   "metadata": {},
   "outputs": [
    {
     "ename": "NameError",
     "evalue": "name 'data' is not defined",
     "output_type": "error",
     "traceback": [
      "\u001b[1;31m---------------------------------------------------------------------------\u001b[0m",
      "\u001b[1;31mNameError\u001b[0m                                 Traceback (most recent call last)",
      "Cell \u001b[1;32mIn[3], line 2\u001b[0m\n\u001b[0;32m      1\u001b[0m \u001b[38;5;66;03m# Filter the data to show from start till \"30-11-22\"\u001b[39;00m\n\u001b[1;32m----> 2\u001b[0m filtered_data \u001b[38;5;241m=\u001b[39m data[:\u001b[38;5;124m'\u001b[39m\u001b[38;5;124m2022-11-30\u001b[39m\u001b[38;5;124m'\u001b[39m]\n\u001b[0;32m      4\u001b[0m \u001b[38;5;66;03m# Plotting the filtered data as a line chart\u001b[39;00m\n\u001b[0;32m      5\u001b[0m plt\u001b[38;5;241m.\u001b[39mfigure(figsize\u001b[38;5;241m=\u001b[39m(\u001b[38;5;241m10\u001b[39m, \u001b[38;5;241m8\u001b[39m))\n",
      "\u001b[1;31mNameError\u001b[0m: name 'data' is not defined"
     ]
    }
   ],
   "source": [
    "# Filter the data to show from start till \"30-11-22\"\n",
    "filtered_data = data[:'2022-11-30']\n",
    "\n",
    "# Plotting the filtered data as a line chart\n",
    "plt.figure(figsize=(10, 8))\n",
    "plt.plot(filtered_data['Close'], label='Line Chart of Close Price', color='red')\n",
    "plt.title('Line Chart of Close Price Trend until November 2022')\n",
    "plt.xlabel('Date')\n",
    "plt.ylabel('Close Price')\n",
    "plt.legend()\n",
    "plt.grid(True)\n",
    "plt.show()\n"
   ]
  },
  {
   "cell_type": "markdown",
   "id": "abb69be4-2bf2-4879-92ee-915f46561f20",
   "metadata": {},
   "source": [
    "# LSTM Model"
   ]
  },
  {
   "cell_type": "code",
   "execution_count": null,
   "id": "fa091855-74a1-4594-8b81-c6931ee23722",
   "metadata": {},
   "outputs": [],
   "source": [
    "# Scaling the data for LSTM model\n",
    "scaler = MinMaxScaler(feature_range=(0, 1))\n",
    "scaled_data = scaler.fit_transform(data['Close'].values.reshape(-1, 1))\n",
    "\n",
    "# Prepare the training and validation data for LSTM\n",
    "train_size = int(len(scaled_data) * 0.8)\n",
    "train_data = scaled_data[:train_size]\n",
    "test_data = scaled_data[train_size - 60:]  # Include the last 60 days of training data for context\n",
    "\n",
    "# Create sequences for training\n",
    "def create_sequences(data, seq_length):\n",
    "    X, y = [], []\n",
    "    for i in range(seq_length, len(data)):\n",
    "        X.append(data[i-seq_length:i, 0])\n",
    "        y.append(data[i, 0])\n",
    "    return np.array(X), np.array(y)\n",
    "\n",
    "seq_length = 60\n",
    "X_train, y_train = create_sequences(train_data, seq_length)\n",
    "X_test, y_test = create_sequences(test_data, seq_length)\n",
    "\n",
    "# Reshape the data to be suitable for LSTM input\n",
    "X_train = np.reshape(X_train, (X_train.shape[0], X_train.shape[1], 1))\n",
    "X_test = np.reshape(X_test, (X_test.shape[0], X_test.shape[1], 1))\n",
    "\n",
    "# Build the LSTM model\n",
    "model = Sequential()\n",
    "model.add(LSTM(units=50, return_sequences=True, input_shape=(X_train.shape[1], 1)))\n",
    "model.add(LSTM(units=50))\n",
    "model.add(Dense(units=1))  # Predicting 1 value\n",
    "\n",
    "model.compile(optimizer='adam', loss='mean_squared_error')\n",
    "\n",
    "# Train the LSTM model\n",
    "model.fit(X_train, y_train, epochs=70, batch_size=32, validation_data=(X_test, y_test))\n"
   ]
  },
  {
   "cell_type": "code",
   "execution_count": null,
   "id": "b9a469a8-b890-45a6-82d5-beb7df8f9e7f",
   "metadata": {},
   "outputs": [],
   "source": [
    "# Define the start and end dates for December 2022\n",
    "december_start = '2022-12-01'\n",
    "december_end = '2022-12-30'\n",
    "\n",
    "# Calculating Mean Squared Error (MSE) and Mean Absolute Error (MAE)\n",
    "mse_lstm = mean_squared_error(actual_december['Close'], predicted_december)\n",
    "mae_lstm = mean_absolute_error(actual_december['Close'], predicted_december)\n",
    "\n",
    "print(f'LSTM Mean Squared Error for December 2022: {mse_lstm}')\n",
    "print(f'LSTM Mean Absolute Error for December 2022: {mae_lstm}')\n"
   ]
  },
  {
   "cell_type": "code",
   "execution_count": 7,
   "id": "cef4ff92-cd52-46db-bfdf-a39b62f385c4",
   "metadata": {},
   "outputs": [
    {
     "ename": "NameError",
     "evalue": "name 'model' is not defined",
     "output_type": "error",
     "traceback": [
      "\u001b[1;31m---------------------------------------------------------------------------\u001b[0m",
      "\u001b[1;31mNameError\u001b[0m                                 Traceback (most recent call last)",
      "Cell \u001b[1;32mIn[7], line 2\u001b[0m\n\u001b[0;32m      1\u001b[0m \u001b[38;5;66;03m# Make predictions on the test data\u001b[39;00m\n\u001b[1;32m----> 2\u001b[0m predicted_scaled \u001b[38;5;241m=\u001b[39m model\u001b[38;5;241m.\u001b[39mpredict(X_test)\n\u001b[0;32m      4\u001b[0m \u001b[38;5;66;03m# Inverse transform to get the actual values\u001b[39;00m\n\u001b[0;32m      5\u001b[0m predicted \u001b[38;5;241m=\u001b[39m scaler\u001b[38;5;241m.\u001b[39minverse_transform(predicted_scaled)\n",
      "\u001b[1;31mNameError\u001b[0m: name 'model' is not defined"
     ]
    }
   ],
   "source": [
    "# Make predictions on the test data\n",
    "predicted_scaled = model.predict(X_test)\n",
    "\n",
    "# Inverse transform to get the actual values\n",
    "predicted = scaler.inverse_transform(predicted_scaled)\n",
    "y_test_actual = scaler.inverse_transform(y_test.reshape(-1, 1))\n",
    "\n",
    "# Filter the data for December 2022 only\n",
    "december_start = '2022-12-01'\n",
    "december_end = '2022-12-30'\n",
    "december_mask = (data.index >= december_start) & (data.index <= december_end)\n",
    "\n",
    "# Filter the actual and predicted values for December 2022\n",
    "december_dates = data.index[december_mask]\n",
    "predicted_december = predicted[-len(december_dates):]\n",
    "y_test_december = y_test_actual[-len(december_dates):]\n",
    "\n",
    "# Plotting the LSTM predictions vs actual values for December 2022\n",
    "plt.figure(figsize=(10, 8))\n",
    "plt.plot(december_dates, y_test_december, label='Actual Close Price', color='red', marker='o')\n",
    "plt.plot(december_dates, predicted_december, label='LSTM Predicted Close Price', color='green', marker='o')\n",
    "plt.title('LSTM Model - Actual vs Predicted Close Prices for December 2022')\n",
    "plt.xlabel('Date')\n",
    "plt.ylabel('Close Price')\n",
    "\n",
    "# Format the x-axis to display only date and month\n",
    "plt.gca().xaxis.set_major_formatter(mdates.DateFormatter('%d-%b'))\n",
    "plt.xticks(rotation=45)  # Rotate the labels for better visibility\n",
    "\n",
    "# Fill between for a clearer comparison\n",
    "plt.fill_between(december_dates, y_test_december.flatten(), predicted_december.flatten(), \n",
    "                 color='gray', alpha=0.2, label='Difference')\n",
    "\n",
    "plt.legend()\n",
    "plt.grid(True)\n",
    "plt.show()"
   ]
  },
  {
   "cell_type": "code",
   "execution_count": null,
   "id": "bfa47361-92e0-419e-b962-fc09f52599af",
   "metadata": {},
   "outputs": [],
   "source": []
  },
  {
   "cell_type": "code",
   "execution_count": null,
   "id": "2880f20c-c0e1-454c-a3d8-47ab0204d206",
   "metadata": {},
   "outputs": [],
   "source": []
  }
 ],
 "metadata": {
  "kernelspec": {
   "display_name": "Python 3 (ipykernel)",
   "language": "python",
   "name": "python3"
  },
  "language_info": {
   "codemirror_mode": {
    "name": "ipython",
    "version": 3
   },
   "file_extension": ".py",
   "mimetype": "text/x-python",
   "name": "python",
   "nbconvert_exporter": "python",
   "pygments_lexer": "ipython3",
   "version": "3.12.4"
  }
 },
 "nbformat": 4,
 "nbformat_minor": 5
}
